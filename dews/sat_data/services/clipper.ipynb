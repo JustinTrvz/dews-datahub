{
 "cells": [
  {
   "cell_type": "code",
   "execution_count": 54,
   "metadata": {},
   "outputs": [],
   "source": [
    "import os\n",
    "import fiona\n",
    "import rasterio\n",
    "from rasterio.mask import mask\n",
    "from rasterio.plot import show\n",
    "import matplotlib.pyplot as plt"
   ]
  },
  {
   "cell_type": "code",
   "execution_count": 55,
   "metadata": {},
   "outputs": [
    {
     "name": "stdout",
     "output_type": "stream",
     "text": [
      "['T32UNE_20230708T102601_B05_60m.jp2', 'T32UNE_20230708T102601_SCL_60m.jp2', 'T32UNE_20230708T102601_B07_60m.jp2', 'T32UNE_20230708T102601_AOT_60m.jp2', 'T32UNE_20230708T102601_B09_60m.jp2', 'T32UNE_20230708T102601_B02_60m.jp2', 'T32UNE_20230708T102601_B11_60m.jp2', 'T32UNE_20230708T102601_TCI_60m.jp2', 'T32UNE_20230708T102601_WVP_60m.jp2', 'T32UNE_20230708T102601_B01_60m.jp2', 'test.jp2', 'T32UNE_20230708T102601_B03_60m.jp2', 'T32UNE_20230708T102601_B12_60m.jp2', 'T32UNE_20230708T102601_B06_60m.jp2', 'T32UNE_20230708T102601_B04_60m.jp2', 'T32UNE_20230708T102601_B8A_60m.jp2']\n"
     ]
    }
   ],
   "source": [
    "# Load bands\n",
    "band_path = \"/home/jtrvz/Documents/sid/sentinel-2a/msi-l2a/S2A_MSIL2A_20230708T102601_N0509_R108_T32UNE_20230708T181859.SAFE/GRANULE/L2A_T32UNE_A042004_20230708T103512/IMG_DATA/R60m/\"\n",
    "band_names = os.listdir(band_path)\n",
    "print(band_names)"
   ]
  },
  {
   "cell_type": "code",
   "execution_count": 56,
   "metadata": {},
   "outputs": [
    {
     "data": {
      "text/plain": [
       "[{'type': 'Polygon',\n",
       "  'coordinates': [[[10.00185, 53.585882],\n",
       "    [10.00185, 53.603405],\n",
       "    [10.038929, 53.603405],\n",
       "    [10.038929, 53.585882],\n",
       "    [10.00185, 53.585882]]]}]"
      ]
     },
     "execution_count": 56,
     "metadata": {},
     "output_type": "execute_result"
    }
   ],
   "source": [
    "# Create shape file from GeoJSON\n",
    "import json\n",
    "from shapely.geometry import shape\n",
    "import geopandas as gpd\n",
    "\n",
    "geojson = '{\"type\":\"Polygon\",\"coordinates\":[[[10.00185,53.585882],[10.00185,53.603405],[10.038929,53.603405],[10.038929,53.585882],[10.00185,53.585882]]]}'\n",
    "geometry =  [json.loads(geojson)]\n",
    "geometry"
   ]
  },
  {
   "cell_type": "code",
   "execution_count": 57,
   "metadata": {},
   "outputs": [
    {
     "data": {
      "text/plain": [
       "'/home/jtrvz/Documents/sid/sentinel-2a/msi-l2a/S2A_MSIL2A_20230708T102601_N0509_R108_T32UNE_20230708T181859.SAFE/GRANULE/L2A_T32UNE_A042004_20230708T103512/IMG_DATA/R60m/T32UNE_20230708T102601_B05_60m.jp2'"
      ]
     },
     "execution_count": 57,
     "metadata": {},
     "output_type": "execute_result"
    }
   ],
   "source": [
    "band_name = band_names[0]\n",
    "band_name\n",
    "raster_path = os.path.join(band_path, band_name)\n",
    "raster_path"
   ]
  },
  {
   "cell_type": "code",
   "execution_count": 58,
   "metadata": {},
   "outputs": [
    {
     "name": "stderr",
     "output_type": "stream",
     "text": [
      "/media/jtrvz/chugchug/Git/drought-ews/dews/django-venv/lib/python3.10/site-packages/rasterio/mask.py:88: UserWarning: shapes are outside bounds of raster. Are they in different coordinate reference systems?\n",
      "  warnings.warn('shapes are outside bounds of raster. '\n"
     ]
    },
    {
     "data": {
      "text/plain": [
       "'/home/jtrvz/Documents/sid/sentinel-2a/msi-l2a/test.jp2'"
      ]
     },
     "execution_count": 58,
     "metadata": {},
     "output_type": "execute_result"
    }
   ],
   "source": [
    "raster_band = rasterio.open(raster_path)\n",
    "out_img, out_transform = mask(raster_band, geometry, invert=True)\n",
    "out_meta = raster_band.meta\n",
    "\n",
    "# save the resulting raster\n",
    "out_meta.update({\"driver\": \"JP2OpenJPEG\",\n",
    "                 \"height\": out_img.shape[1],\n",
    "                 \"width\": out_img.shape[2],\n",
    "                 \"transform\": out_transform})\n",
    "\n",
    "out_path = \"/home/jtrvz/Documents/sid/sentinel-2a/msi-l2a/\" + \"test.jp2\"\n",
    "out_raster = rasterio.open(out_path, \"w\", **out_meta)\n",
    "out_raster.write(out_img)\n",
    "out_raster.close()\n",
    "\n",
    "out_path"
   ]
  },
  {
   "cell_type": "code",
   "execution_count": null,
   "metadata": {},
   "outputs": [],
   "source": []
  },
  {
   "cell_type": "code",
   "execution_count": null,
   "metadata": {},
   "outputs": [],
   "source": []
  },
  {
   "cell_type": "code",
   "execution_count": null,
   "metadata": {},
   "outputs": [],
   "source": []
  },
  {
   "cell_type": "code",
   "execution_count": null,
   "metadata": {},
   "outputs": [],
   "source": []
  }
 ],
 "metadata": {
  "kernelspec": {
   "display_name": "django-venv",
   "language": "python",
   "name": "python3"
  },
  "language_info": {
   "codemirror_mode": {
    "name": "ipython",
    "version": 3
   },
   "file_extension": ".py",
   "mimetype": "text/x-python",
   "name": "python",
   "nbconvert_exporter": "python",
   "pygments_lexer": "ipython3",
   "version": "3.10.12"
  }
 },
 "nbformat": 4,
 "nbformat_minor": 2
}
